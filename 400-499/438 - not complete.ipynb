{
 "cells": [
  {
   "cell_type": "markdown",
   "metadata": {},
   "source": [
    "# 438 Find All Anagrams in a String\n",
    "\n",
    "#### Stuck -> "
   ]
  },
  {
   "cell_type": "markdown",
   "metadata": {},
   "source": [
    "Given a string s and a non-empty string p, find all the start indices of p's anagrams in s.\n",
    "\n",
    "Strings consists of lowercase English letters only and the length of both strings s and p will not be larger than 20,100.\n",
    "\n",
    "The order of output does not matter.\n",
    "\n",
    "### Example 1:\n",
    "```\n",
    "Input:\n",
    "s: \"cbaebabacd\" p: \"abc\"\n",
    "\n",
    "Output:\n",
    "[0, 6]\n",
    "\n",
    "Explanation:\n",
    "The substring with start index = 0 is \"cba\", which is an anagram of \"abc\".\n",
    "The substring with start index = 6 is \"bac\", which is an anagram of \"abc\".\n",
    "```\n",
    "\n",
    "### Example 2:\n",
    "```\n",
    "Input:\n",
    "s: \"abab\" p: \"ab\"\n",
    "\n",
    "Output:\n",
    "[0, 1, 2]\n",
    "\n",
    "Explanation:\n",
    "The substring with start index = 0 is \"ab\", which is an anagram of \"ab\".\n",
    "The substring with start index = 1 is \"ba\", which is an anagram of \"ab\".\n",
    "The substring with start index = 2 is \"ab\", which is an anagram of \"ab\".\n",
    "```"
   ]
  },
  {
   "cell_type": "code",
   "execution_count": 2,
   "metadata": {
    "collapsed": true
   },
   "outputs": [],
   "source": [
    "def findAnagrams(s, p):\n",
    "    \"\"\"\n",
    "    :type s: str\n",
    "    :type p: str\n",
    "    :rtype: List[int]\n",
    "    \"\"\"\n",
    "    pointer = 0\n",
    "    output = []\n",
    "\n",
    "    while(len(s) >= pointer+len(p)):\n",
    "        compare_s = s[pointer:pointer+len(p)]\n",
    "        # Sorted Takes Too Long time\n",
    "        hash = {}\n",
    "        for letter in compare_s:\n",
    "            if letter in hash:\n",
    "                hash[letter] += 1\n",
    "            else: \n",
    "                hash[letter] = 1\n",
    "\n",
    "        for letter in p:\n",
    "            if letter in hash:\n",
    "                hash[letter] -= 1\n",
    "            else: \n",
    "                hash[letter] = 1\n",
    "\n",
    "        isAnagram = True\n",
    "        for key in hash:\n",
    "            if hash[key] != 0:\n",
    "                isAnagram = False\n",
    "                break;\n",
    "        if isAnagram:\n",
    "            output.append(pointer)\n",
    "        pointer += 1\n",
    "\n",
    "    return output"
   ]
  },
  {
   "cell_type": "code",
   "execution_count": 3,
   "metadata": {
    "collapsed": false
   },
   "outputs": [
    {
     "data": {
      "text/plain": [
       "[0, 6]"
      ]
     },
     "execution_count": 3,
     "metadata": {},
     "output_type": "execute_result"
    }
   ],
   "source": [
    "findAnagrams(\"cbaebabacd\", \"abc\")"
   ]
  },
  {
   "cell_type": "code",
   "execution_count": 4,
   "metadata": {
    "collapsed": false
   },
   "outputs": [
    {
     "data": {
      "text/plain": [
       "[0, 1, 2]"
      ]
     },
     "execution_count": 4,
     "metadata": {},
     "output_type": "execute_result"
    }
   ],
   "source": [
    "findAnagrams(\"abab\", \"ab\")"
   ]
  }
 ],
 "metadata": {
  "anaconda-cloud": {},
  "kernelspec": {
   "display_name": "Python [default]",
   "language": "python",
   "name": "python2"
  },
  "language_info": {
   "codemirror_mode": {
    "name": "ipython",
    "version": 2
   },
   "file_extension": ".py",
   "mimetype": "text/x-python",
   "name": "python",
   "nbconvert_exporter": "python",
   "pygments_lexer": "ipython2",
   "version": "2.7.12"
  }
 },
 "nbformat": 4,
 "nbformat_minor": 1
}
